{
 "cells": [
  {
   "attachments": {},
   "cell_type": "markdown",
   "metadata": {},
   "source": [
    "梯度下降"
   ]
  },
  {
   "cell_type": "code",
   "execution_count": 1,
   "metadata": {},
   "outputs": [],
   "source": [
    "import numpy as np"
   ]
  },
  {
   "attachments": {},
   "cell_type": "markdown",
   "metadata": {},
   "source": [
    "## 1.梯度下降求loss最小值(滴滴一面)\n",
    "可以复习一下lasso的梯度下降"
   ]
  },
  {
   "attachments": {},
   "cell_type": "markdown",
   "metadata": {},
   "source": [
    "一个参数的二次函数"
   ]
  },
  {
   "cell_type": "code",
   "execution_count": 39,
   "metadata": {},
   "outputs": [
    {
     "data": {
      "text/plain": [
       "(-0.004999999999983906, 2.000025)"
      ]
     },
     "execution_count": 39,
     "metadata": {},
     "output_type": "execute_result"
    }
   ],
   "source": [
    "def func(x1):\n",
    "\n",
    "    out = x1 ** 2 + 2\n",
    "    return out\n",
    "# 期望最小值应该是 2,x1 = 0 \n",
    "\n",
    "# 求偏导\n",
    "def grad(x1):\n",
    "\n",
    "    grad1 = (func(x1 + 0.01) - func(x1)) / 0.01\n",
    "    # grad2 = \n",
    "    return grad1\n",
    "\n",
    "# 梯度下降\n",
    "def grad_desc(lr=0.01, n=10000):\n",
    "    # 初值\n",
    "    x1 = 1\n",
    "    for _ in range(n):\n",
    "        grad1 = grad(x1)\n",
    "        x1 = x1 - lr * grad1\n",
    "    return x1, func(x1)\n",
    "\n",
    "grad_desc()"
   ]
  },
  {
   "attachments": {},
   "cell_type": "markdown",
   "metadata": {},
   "source": [
    "2个参数的多项式梯度下降"
   ]
  },
  {
   "cell_type": "code",
   "execution_count": 40,
   "metadata": {},
   "outputs": [
    {
     "data": {
      "text/plain": [
       "(1.9987027392533656, 1.092923742270406, 0.45455669954379535)"
      ]
     },
     "execution_count": 40,
     "metadata": {},
     "output_type": "execute_result"
    }
   ],
   "source": [
    "# 原函数\n",
    "def argminf(x1, x2):\n",
    "    r = ((x1+x2-4)**2 + (2*x1+3*x2 - 7)**2 + (4*x1+x2-9)**2)*0.5\n",
    "    return r\n",
    "\n",
    "\n",
    "# 全量计算一阶偏导的值\n",
    "def deriv_x(x1, x2):\n",
    "    r1 = (x1+x2-4) + (2*x1+3*x2-7)*2 + (4*x1+x2-9)*4\n",
    "    r2 = (x1+x2-4) + (2*x1+3*x2-7)*3 + (4*x1+x2-9)\n",
    "    return r1, r2\n",
    "\n",
    "# 梯度下降算法\n",
    "def gradient_decs(n):\n",
    "    alpha = 0.01     # 学习率\n",
    "    x1, x2 = 0, 0    # 初始值\n",
    "    y1 = argminf(x1, x2)\n",
    "    for i in range(n):\n",
    "        deriv1, deriv2 = deriv_x(x1, x2)\n",
    "        x1 = x1 - alpha * deriv1\n",
    "        x2 = x2 - alpha * deriv2\n",
    "        y2 = argminf(x1, x2)\n",
    "        if y1 - y2 < 1e-6:\n",
    "            return x1, x2, y2\n",
    "        if y2 < y1:\n",
    "            y1 = y2\n",
    "    return x1, x2, y2\n",
    "\n",
    "# 迭代1000次结果\n",
    "gradient_decs(1000)"
   ]
  },
  {
   "attachments": {},
   "cell_type": "markdown",
   "metadata": {},
   "source": [
    "梯度不能手算的时候下降估计参数"
   ]
  },
  {
   "cell_type": "code",
   "execution_count": 41,
   "metadata": {},
   "outputs": [
    {
     "data": {
      "text/plain": [
       "(1.9942099963494109, 1.0921359698802102, 0.4548275968444457)"
      ]
     },
     "execution_count": 41,
     "metadata": {},
     "output_type": "execute_result"
    }
   ],
   "source": [
    "# 原函数\n",
    "def argminf(x1, x2):\n",
    "    r = ((x1+x2-4)**2 + (2*x1+3*x2 - 7)**2 + (4*x1+x2-9)**2)*0.5\n",
    "    return r\n",
    "\n",
    "\n",
    "# 全量计算一阶偏导的值\n",
    "def deriv_x(x1, x2):\n",
    "    # r1 = (x1+x2-4) + (2*x1+3*x2-7)*2 + (4*x1+x2-9)*4\n",
    "    # r2 = (x1+x2-4) + (2*x1+3*x2-7)*3 + (4*x1+x2-9)\n",
    "    r1 = (argminf(x1+0.01, x2) - argminf(x1, x2)) / 0.01\n",
    "    r2 = (argminf(x1, x2+0.01) - argminf(x1, x2)) / 0.01 \n",
    "    return r1, r2\n",
    "\n",
    "# 梯度下降算法\n",
    "def gradient_decs(n):\n",
    "    alpha = 0.01     # 学习率\n",
    "    x1, x2 = 0, 0    # 初始值\n",
    "    y1 = argminf(x1, x2)\n",
    "    for i in range(n):\n",
    "        deriv1, deriv2 = deriv_x(x1, x2)\n",
    "        x1 = x1 - alpha * deriv1\n",
    "        x2 = x2 - alpha * deriv2\n",
    "        y2 = argminf(x1, x2)\n",
    "        if y1 - y2 < 1e-6:\n",
    "            return x1, x2, y2\n",
    "        if y2 < y1:\n",
    "            y1 = y2\n",
    "    return x1, x2, y2\n",
    "\n",
    "# 迭代1000次结果\n",
    "gradient_decs(1000)"
   ]
  },
  {
   "attachments": {},
   "cell_type": "markdown",
   "metadata": {},
   "source": [
    "# 2.求3次根"
   ]
  },
  {
   "cell_type": "code",
   "execution_count": 82,
   "metadata": {},
   "outputs": [
    {
     "data": {
      "text/plain": [
       "(3.999988555908203, 3.9999999999999996)"
      ]
     },
     "execution_count": 82,
     "metadata": {},
     "output_type": "execute_result"
    }
   ],
   "source": [
    "# 考虑二分法做\n",
    "def func(x, p):\n",
    "    # out == x ** 1/3\n",
    "    # out ** 3 == x\n",
    "    # 奇函数, 考虑正区间, 负的则加符号\n",
    "    # x \\in [0,1] -> out \\in [x, 1]\n",
    "    # x > 1 -> out \\in [1, x] \n",
    "    # p是精度\n",
    "    if x ** 3 == x:\n",
    "        # 正负一\n",
    "        return x\n",
    "    x_abs = abs(x) # 奇函数, 考虑正区间, 负的则加符号\n",
    "\n",
    "    if x_abs < 1:\n",
    "        # x \\in [0,1] -> out \\in [x, 1]\n",
    "        left = x_abs\n",
    "        right = 1\n",
    "    else:\n",
    "        # x > 1 -> out \\in [1, x]\n",
    "        left = 1\n",
    "        right = x_abs\n",
    "    mid = left + (right - left) / 2\n",
    "        \n",
    "    while(abs(mid ** 3  - x_abs) > p):  \n",
    "        # print(left, right, mid) \n",
    "        if mid ** 3 < x_abs:\n",
    "            # [mid, right]\n",
    "            left = mid\n",
    "        else:\n",
    "            # mid ** 3 > x_abs\n",
    "            right = mid\n",
    "        mid = left + (right - left) / 2\n",
    "    # out = np.sign(x) * mid\n",
    "    if x == x_abs:\n",
    "        out = mid\n",
    "    else:\n",
    "        out = -1 * mid\n",
    "    # out = mid * \n",
    "    return out\n",
    "\n",
    "input = 64\n",
    "func(input, 0.001), input ** (1/3)  "
   ]
  },
  {
   "attachments": {},
   "cell_type": "markdown",
   "metadata": {},
   "source": [
    "# 毫末智行数据智能实习生一面"
   ]
  },
  {
   "attachments": {},
   "cell_type": "markdown",
   "metadata": {},
   "source": [
    "给你一个包含 n 个整数的数组 nums，判断 nums 中是否存在三个元素 a，b，c ，使得 a + b + c = 0 ？请你找出所有和为 0 且不重复的三元组。\n",
    "\n",
    "注意：答案中不可以包含重复的三元组。\n",
    "\n",
    "示例 1：\n",
    "\n",
    "输入：nums = [-1,0,1,2,-1,-4]\n",
    "输出：[[-1,-1,2],[-1,0,1]]\n",
    "示例 2：\n",
    "\n",
    "输入：nums = []\n",
    "输出：[]\n",
    "示例 3：\n",
    "\n",
    "输入：nums = [0]\n",
    "输出：[] "
   ]
  },
  {
   "cell_type": "code",
   "execution_count": null,
   "metadata": {},
   "outputs": [
    {
     "data": {
      "text/plain": [
       "1"
      ]
     },
     "metadata": {},
     "output_type": "display_data"
    }
   ],
   "source": [
    "ls = [1,2,3]\n",
    "ls.index(2)"
   ]
  },
  {
   "cell_type": "code",
   "execution_count": null,
   "metadata": {},
   "outputs": [
    {
     "data": {
      "text/plain": [
       "[[-1, 0, 1], [-1, 2, -1]]"
      ]
     },
     "metadata": {},
     "output_type": "display_data"
    }
   ],
   "source": [
    "def func(nums=[-1,0,1,2,-1,-4]):\n",
    "\n",
    "    out_ls = []\n",
    "\n",
    "    if nums == []:\n",
    "        return []\n",
    "\n",
    "    if len(nums) < 3:\n",
    "        return []\n",
    "\n",
    "    lenth = len(nums)\n",
    "\n",
    "    for i in range(lenth):\n",
    "        a = nums[i]\n",
    "        for j in range(lenth):\n",
    "            b = nums[j]\n",
    "            # c = -(a + b)\n",
    "            for k in range(lenth):\n",
    "                c = nums[k]\n",
    "                if (a + b + c == 0) and ([a,b,c] not in out_ls) and ([a,c,b] not in out_ls) and ([b,a,c] not in out_ls) and ([b,c,a] not in out_ls) and ([c,b,a] not in out_ls) and ([c,a,b] not in out_ls) and (i != j) and (i != k) and (j != k):\n",
    "                    # if nums.index(c) != i or nums.index(c) != j:\n",
    "                    out_ls.append([a,b,c])\n",
    "    return out_ls\n",
    "\n",
    "func(nums=[-1,0,1,2,-1,-4])"
   ]
  },
  {
   "cell_type": "code",
   "execution_count": null,
   "metadata": {},
   "outputs": [
    {
     "data": {
      "text/plain": [
       "[]"
      ]
     },
     "metadata": {},
     "output_type": "display_data"
    }
   ],
   "source": [
    "func(nums=[])"
   ]
  },
  {
   "cell_type": "code",
   "execution_count": null,
   "metadata": {},
   "outputs": [
    {
     "data": {
      "text/plain": [
       "[]"
      ]
     },
     "metadata": {},
     "output_type": "display_data"
    }
   ],
   "source": [
    "func(nums=[0])"
   ]
  }
 ],
 "metadata": {
  "kernelspec": {
   "display_name": "Python 3.9.12 ('base')",
   "language": "python",
   "name": "python3"
  },
  "language_info": {
   "codemirror_mode": {
    "name": "ipython",
    "version": 3
   },
   "file_extension": ".py",
   "mimetype": "text/x-python",
   "name": "python",
   "nbconvert_exporter": "python",
   "pygments_lexer": "ipython3",
   "version": "3.9.12 (main, Apr  4 2022, 05:22:27) [MSC v.1916 64 bit (AMD64)]"
  },
  "orig_nbformat": 4,
  "vscode": {
   "interpreter": {
    "hash": "7481dab674330b32efb944e1c7e4ac19b53a6a436ede273e42a6c562531d9818"
   }
  }
 },
 "nbformat": 4,
 "nbformat_minor": 2
}
